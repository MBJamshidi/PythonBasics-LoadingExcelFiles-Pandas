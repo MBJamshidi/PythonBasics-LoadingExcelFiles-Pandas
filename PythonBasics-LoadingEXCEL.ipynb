{
 "cells": [
  {
   "cell_type": "code",
   "execution_count": 1,
   "metadata": {},
   "outputs": [
    {
     "name": "stdout",
     "output_type": "stream",
     "text": [
      "   A  JAM1  JAM2  JAM3\n",
      "0  B   1.0    23     3\n",
      "1  C   NaN     3    43\n",
      "2  D   2.0     8     9\n",
      "3  E   6.0     3    76\n",
      "4  F  98.0    43    76\n",
      "5  G  78.0    76    89\n",
      "6  H  23.0    42    12\n",
      "7  C   4.0    56  3445\n"
     ]
    }
   ],
   "source": [
    "#Excel Files\n",
    "#The process for loading an Excel file is similar\n",
    "#We use the path of the Excel file\n",
    "#The function reads Excel\n",
    "#The result is a data frame\n",
    "\n",
    "#We can create a data frame out of a dictionary\n",
    "#The keys correspond to the column labels\n",
    "import pandas as BMJamshidi\n",
    "File_EXCEL1_Path=\"PandsWithBehdad.xlsx\"\n",
    "DataFrame1=BMJamshidi.read_excel(File_EXCEL1_Path)\n",
    "\n",
    "#Let's examine this code more in-depth\n",
    "\n",
    "#Data Frame\n",
    "#One way Pandas allows you to work with data is with the data frame\n",
    "#Let's go over the process to go from a CSV file to a data frame\n",
    "#Head Method\n",
    "DataFrame1.head()\n",
    "print(DataFrame1)"
   ]
  }
 ],
 "metadata": {
  "kernelspec": {
   "display_name": "Python 3",
   "language": "python",
   "name": "python3"
  },
  "language_info": {
   "codemirror_mode": {
    "name": "ipython",
    "version": 3
   },
   "file_extension": ".py",
   "mimetype": "text/x-python",
   "name": "python",
   "nbconvert_exporter": "python",
   "pygments_lexer": "ipython3",
   "version": "3.7.6"
  }
 },
 "nbformat": 4,
 "nbformat_minor": 4
}
